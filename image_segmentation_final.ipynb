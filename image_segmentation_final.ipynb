{
  "nbformat": 4,
  "nbformat_minor": 0,
  "metadata": {
    "colab": {
      "name": "image segmentation final.ipynb",
      "version": "0.3.2",
      "provenance": []
    },
    "kernelspec": {
      "name": "python3",
      "display_name": "Python 3"
    },
    "accelerator": "GPU"
  },
  "cells": [
    {
      "cell_type": "code",
      "metadata": {
        "id": "1FUSy4n8v_4T",
        "colab_type": "code",
        "colab": {}
      },
      "source": [
        "import numpy as np\n",
        "import matplotlib.pyplot as plt\n",
        "import os\n",
        "import cv2\n",
        "from PIL import Image"
      ],
      "execution_count": 0,
      "outputs": []
    },
    {
      "cell_type": "code",
      "metadata": {
        "id": "E_ArgJq-wDQi",
        "colab_type": "code",
        "colab": {}
      },
      "source": [
        "from tensorflow.keras.layers import Conv1D,Conv2D,Input,MaxPooling2D,Activation,Dense,Dropout,Conv2DTranspose\n",
        "from tensorflow.keras.models import Model\n",
        "import tensorflow as tf "
      ],
      "execution_count": 0,
      "outputs": []
    },
    {
      "cell_type": "code",
      "metadata": {
        "id": "Mj4bg_Sqwb_U",
        "colab_type": "code",
        "outputId": "f5a425cd-cf29-43a0-e5ce-174935bfbb3b",
        "colab": {
          "base_uri": "https://localhost:8080/",
          "height": 54
        }
      },
      "source": [
        "from google.colab import drive\n",
        "drive.mount('/content/drive')"
      ],
      "execution_count": 0,
      "outputs": [
        {
          "output_type": "stream",
          "text": [
            "Drive already mounted at /content/drive; to attempt to forcibly remount, call drive.mount(\"/content/drive\", force_remount=True).\n"
          ],
          "name": "stdout"
        }
      ]
    },
    {
      "cell_type": "code",
      "metadata": {
        "id": "CInlscNNw3d7",
        "colab_type": "code",
        "colab": {}
      },
      "source": [
        "!cp drive/'My Drive'/training.zip ."
      ],
      "execution_count": 0,
      "outputs": []
    },
    {
      "cell_type": "code",
      "metadata": {
        "id": "5UKFqaKOxpQT",
        "colab_type": "code",
        "colab": {}
      },
      "source": [
        "from zipfile import ZipFile\n",
        "my = ZipFile(\"training.zip\")\n",
        "my.extractall()"
      ],
      "execution_count": 0,
      "outputs": []
    },
    {
      "cell_type": "code",
      "metadata": {
        "id": "WkhdcUcS1Rpw",
        "colab_type": "code",
        "colab": {}
      },
      "source": [
        "background_color = np.array([0, 0, 255])"
      ],
      "execution_count": 0,
      "outputs": []
    },
    {
      "cell_type": "code",
      "metadata": {
        "id": "kEXuQWvfDym7",
        "colab_type": "code",
        "colab": {}
      },
      "source": [
        "final_list = []\n",
        "path1=r'/content/image_2'\n",
        "path2= r'/content/gt_image_2'\n",
        "for img1 in os.listdir(path1):\n",
        "    img1_array = cv2.imread(os.path.join(path1,img1))\n",
        "    new_image1 = cv2.resize(img1_array,(576,160))\n",
        "    final_list.append(new_image1)"
      ],
      "execution_count": 0,
      "outputs": []
    },
    {
      "cell_type": "code",
      "metadata": {
        "id": "WixShb1qD6A8",
        "colab_type": "code",
        "colab": {}
      },
      "source": [
        "final_list2 = []\n",
        "for img2 in os.listdir(path2):\n",
        "    img2_array= cv2.imread(os.path.join(path2,img2))\n",
        "    newimg2 = cv2.resize(img2_array,(576,160))\n",
        "    gt_bg = np.all(newimg2 == background_color, axis=2)\n",
        "    gt_bg = gt_bg.reshape(*gt_bg.shape,1)\n",
        "    gt_image = np.concatenate((gt_bg,np.invert(gt_bg)),axis =2)\n",
        "    final_list2.append(gt_image)"
      ],
      "execution_count": 0,
      "outputs": []
    },
    {
      "cell_type": "code",
      "metadata": {
        "id": "4ZhC57IU-IDM",
        "colab_type": "code",
        "outputId": "920505a3-3bf7-4839-a3d4-ab08282cba05",
        "colab": {
          "base_uri": "https://localhost:8080/",
          "height": 162
        }
      },
      "source": [
        "plt.imshow(newimg2)"
      ],
      "execution_count": 0,
      "outputs": [
        {
          "output_type": "execute_result",
          "data": {
            "text/plain": [
              "<matplotlib.image.AxesImage at 0x7f62f5468cf8>"
            ]
          },
          "metadata": {
            "tags": []
          },
          "execution_count": 39
        },
        {
          "output_type": "display_data",
          "data": {
            "image/png": "[encoded data removed]",
            "text/plain": [
              "<Figure size 432x288 with 1 Axes>"
            ]
          },
          "metadata": {
            "tags": []
          }
        }
      ]
    },
    {
      "cell_type": "code",
      "metadata": {
        "id": "trr93_34Iyhe",
        "colab_type": "code",
        "outputId": "eb97b2da-5f04-42b8-ea3f-8f4dde465c6f",
        "colab": {
          "base_uri": "https://localhost:8080/",
          "height": 34
        }
      },
      "source": [
        "final_list2[288][150][300]\n"
      ],
      "execution_count": 0,
      "outputs": [
        {
          "output_type": "execute_result",
          "data": {
            "text/plain": [
              "array([False,  True])"
            ]
          },
          "metadata": {
            "tags": []
          },
          "execution_count": 41
        }
      ]
    },
    {
      "cell_type": "code",
      "metadata": {
        "id": "4GysyTIYBM8R",
        "colab_type": "code",
        "outputId": "1d0278c9-bd20-4894-889f-ce3646c2eb4e",
        "colab": {
          "base_uri": "https://localhost:8080/",
          "height": 34
        }
      },
      "source": [
        "newimg2[125][200]"
      ],
      "execution_count": 0,
      "outputs": [
        {
          "output_type": "execute_result",
          "data": {
            "text/plain": [
              "array([255,   0, 255], dtype=uint8)"
            ]
          },
          "metadata": {
            "tags": []
          },
          "execution_count": 10
        }
      ]
    },
    {
      "cell_type": "code",
      "metadata": {
        "id": "oeMFEY29EASm",
        "colab_type": "code",
        "colab": {}
      },
      "source": [
        "X=np.asarray(final_list)\n",
        "y= np.asarray(final_list2)\n",
        "from sklearn.utils import shuffle\n",
        "from sklearn.model_selection import train_test_split\n",
        "X, y = shuffle(X, y, random_state=0)\n",
        "X_train, X_test, y_train, y_test = train_test_split(X, y, test_size=0.2)"
      ],
      "execution_count": 0,
      "outputs": []
    },
    {
      "cell_type": "code",
      "metadata": {
        "id": "0PLRbwvC5pO9",
        "colab_type": "code",
        "outputId": "e82952a7-4f35-415c-f515-e75768cfbcec",
        "colab": {
          "base_uri": "https://localhost:8080/",
          "height": 85
        }
      },
      "source": [
        "print(X_train.shape)\n",
        "print(y_train.shape)\n",
        "print(X_test.shape)\n",
        "print(y_test.shape)"
      ],
      "execution_count": 0,
      "outputs": [
        {
          "output_type": "stream",
          "text": [
            "(231, 160, 576, 3)\n",
            "(231, 160, 576, 2)\n",
            "(58, 160, 576, 3)\n",
            "(58, 160, 576, 2)\n"
          ],
          "name": "stdout"
        }
      ]
    },
    {
      "cell_type": "code",
      "metadata": {
        "id": "p5KEIIL-BmEQ",
        "colab_type": "code",
        "outputId": "c8ffc866-0caf-498b-855b-34d903b8d898",
        "colab": {
          "base_uri": "https://localhost:8080/",
          "height": 34
        }
      },
      "source": [
        "y[1][159][200]"
      ],
      "execution_count": 0,
      "outputs": [
        {
          "output_type": "execute_result",
          "data": {
            "text/plain": [
              "array([ True, False])"
            ]
          },
          "metadata": {
            "tags": []
          },
          "execution_count": 91
        }
      ]
    },
    {
      "cell_type": "code",
      "metadata": {
        "id": "4eVIEOt8EG83",
        "colab_type": "code",
        "colab": {}
      },
      "source": [
        "def model2(input_shape):\n",
        "    input_x = Input(input_shape)\n",
        "    X=Conv2D(64,3,strides = (1,1),padding = 'same',data_format = \"channels_last\" ,activation  = 'relu', use_bias  =True,kernel_initializer='glorot_uniform', name = \"fc_1a\")(input_x)\n",
        "    X=Conv2D(64,3,strides = (1,1),padding = 'same',activation  = 'relu', use_bias  =True,kernel_initializer='glorot_uniform', name = \"fc_1b\")(X)\n",
        "    X=MaxPooling2D((2,2), name = \"fc_1c\")(X)\n",
        "    X=Conv2D(128,3,strides = (1,1),padding = 'same',activation  = 'relu', use_bias  =True,kernel_initializer='glorot_uniform', name = \"fc_2a\")(X)\n",
        "    X=Conv2D(128,3,strides = (1,1),padding = 'same',activation  = 'relu', use_bias  =True,kernel_initializer='glorot_uniform', name = \"fc_2b\")(X)\n",
        "    X=MaxPooling2D((2,2), name = \"fc_2c\")(X)\n",
        "    X=Conv2D(256,3,strides = (1,1),padding = 'same',activation  = 'relu', use_bias  =True,kernel_initializer='glorot_uniform', name = \"fc_3a\")(X)\n",
        "    X=Conv2D(256,3,strides = (1,1),padding = 'same',activation  = 'relu', use_bias  =True,kernel_initializer='glorot_uniform', name = \"fc_3b\")(X)\n",
        "    X=Conv2D(256,3,strides = (1,1),padding = 'same',activation  = 'relu', use_bias  =True,kernel_initializer='glorot_uniform', name = \"fc_3c\")(X)\n",
        "    fc_3d=MaxPooling2D((2,2), name = \"fc_3d\")(X)\n",
        "    X=Conv2D(512,3,strides = (1,1),padding = 'same',activation  = 'relu', use_bias  =True,kernel_initializer='glorot_uniform', name = \"fc_4a\")(fc_3d)\n",
        "    X=Conv2D(512,3,strides = (1,1),padding = 'same',activation  = 'relu', use_bias  =True,kernel_initializer='glorot_uniform', name = \"fc_4b\")(X)\n",
        "    X=Conv2D(512,3,strides = (1,1),padding = 'same',activation  = 'relu', use_bias  =True,kernel_initializer='glorot_uniform', name = \"fc_4c\")(X)\n",
        "    fc_4d=MaxPooling2D((2,2), name = \"fc_4d\")(X)\n",
        "    X=Conv2D(512,3,strides = (1,1),padding = 'same',activation  = 'relu', use_bias  =True,kernel_initializer='glorot_uniform', name = \"fc_5a\")(fc_4d)\n",
        "    X=Conv2D(512,3,strides = (1,1),padding = 'same',activation  = 'relu', use_bias  =True,kernel_initializer='glorot_uniform', name = \"fc_5b\")(X)\n",
        "    X=Conv2D(512,3,strides = (1,1),padding = 'same',activation  = 'relu', use_bias  =True,kernel_initializer='glorot_uniform', name = \"fc_5c\")(X)\n",
        "    X=MaxPooling2D((2,2), name = \"fc_5d\")(X)\n",
        "    X=Conv2D(4096,1,activation = 'relu', use_bias  =True,kernel_initializer='glorot_uniform', name = \"fc_6\")(X)\n",
        "    X=Dropout(0.5)(X)\n",
        "    X=Conv2D(4096,1,activation = 'relu', use_bias  =True,kernel_initializer='glorot_uniform', name = \"fc_7\")(X)\n",
        "    X=Dropout(0.5)(X)\n",
        "    fc_8=Conv2D(2,1,strides = (1,1),activation ='relu' , use_bias = True,kernel_initializer='glorot_uniform', name = \"fc_8\")(X)\n",
        "    fc_9=Conv2DTranspose(512,4,strides = (2,2),padding = 'same',activation ='relu',use_bias = True,kernel_initializer='glorot_uniform', name =\"fc_9\")(fc_8)\n",
        "    fc_9_skip_connected  = tf.add(fc_9,fc_4d)\n",
        "    fc_10=Conv2DTranspose(256,4,strides = (2,2) , padding = 'same' ,activation ='relu',use_bias = True,kernel_initializer='glorot_uniform', name = \"fc_10\")(fc_9_skip_connected)\n",
        "    fc_10_skip_connected = tf.add(fc_10,fc_3d)\n",
        "    X = Conv2DTranspose(2,16,strides = (8,8) , padding ='same',kernel_initializer='glorot_uniform', name = \"fc_11\")(fc_10_skip_connected)\n",
        "    #X = tf.reshape(X,(289,-1,2))\n",
        "    X = Activation('softmax')(X)\n",
        "    model = Model(inputs = input_x,outputs = X,name = 'MyModel')\n",
        "    return model"
      ],
      "execution_count": 0,
      "outputs": []
    },
    {
      "cell_type": "code",
      "metadata": {
        "id": "pW7bN1PVEIUr",
        "colab_type": "code",
        "outputId": "a5ae54f9-0d2a-4891-8c07-33be3f56c01c",
        "colab": {
          "base_uri": "https://localhost:8080/",
          "height": 1000
        }
      },
      "source": [
        "seg_model = model2(X_train[1].shape)\n",
        "seg_model.compile(optimizer = \"adam\", loss = \"binary_crossentropy\",metrics = [\"accuracy\"])\n",
        "seg_model.summary()"
      ],
      "execution_count": 0,
      "outputs": [
        {
          "output_type": "stream",
          "text": [
            "Model: \"MyModel\"\n",
            "__________________________________________________________________________________________________\n",
            "Layer (type)                    Output Shape         Param #     Connected to                     \n",
            "==================================================================================================\n",
            "input_4 (InputLayer)            [(None, 160, 576, 3) 0                                            \n",
            "__________________________________________________________________________________________________\n",
            "fc_1a (Conv2D)                  (None, 160, 576, 64) 1792        input_4[0][0]                    \n",
            "__________________________________________________________________________________________________\n",
            "fc_1b (Conv2D)                  (None, 160, 576, 64) 36928       fc_1a[0][0]                      \n",
            "__________________________________________________________________________________________________\n",
            "fc_1c (MaxPooling2D)            (None, 80, 288, 64)  0           fc_1b[0][0]                      \n",
            "__________________________________________________________________________________________________\n",
            "fc_2a (Conv2D)                  (None, 80, 288, 128) 73856       fc_1c[0][0]                      \n",
            "__________________________________________________________________________________________________\n",
            "fc_2b (Conv2D)                  (None, 80, 288, 128) 147584      fc_2a[0][0]                      \n",
            "__________________________________________________________________________________________________\n",
            "fc_2c (MaxPooling2D)            (None, 40, 144, 128) 0           fc_2b[0][0]                      \n",
            "__________________________________________________________________________________________________\n",
            "fc_3a (Conv2D)                  (None, 40, 144, 256) 295168      fc_2c[0][0]                      \n",
            "__________________________________________________________________________________________________\n",
            "fc_3b (Conv2D)                  (None, 40, 144, 256) 590080      fc_3a[0][0]                      \n",
            "__________________________________________________________________________________________________\n",
            "fc_3c (Conv2D)                  (None, 40, 144, 256) 590080      fc_3b[0][0]                      \n",
            "__________________________________________________________________________________________________\n",
            "fc_3d (MaxPooling2D)            (None, 20, 72, 256)  0           fc_3c[0][0]                      \n",
            "__________________________________________________________________________________________________\n",
            "fc_4a (Conv2D)                  (None, 20, 72, 512)  1180160     fc_3d[0][0]                      \n",
            "__________________________________________________________________________________________________\n",
            "fc_4b (Conv2D)                  (None, 20, 72, 512)  2359808     fc_4a[0][0]                      \n",
            "__________________________________________________________________________________________________\n",
            "fc_4c (Conv2D)                  (None, 20, 72, 512)  2359808     fc_4b[0][0]                      \n",
            "__________________________________________________________________________________________________\n",
            "fc_4d (MaxPooling2D)            (None, 10, 36, 512)  0           fc_4c[0][0]                      \n",
            "__________________________________________________________________________________________________\n",
            "fc_5a (Conv2D)                  (None, 10, 36, 512)  2359808     fc_4d[0][0]                      \n",
            "__________________________________________________________________________________________________\n",
            "fc_5b (Conv2D)                  (None, 10, 36, 512)  2359808     fc_5a[0][0]                      \n",
            "__________________________________________________________________________________________________\n",
            "fc_5c (Conv2D)                  (None, 10, 36, 512)  2359808     fc_5b[0][0]                      \n",
            "__________________________________________________________________________________________________\n",
            "fc_5d (MaxPooling2D)            (None, 5, 18, 512)   0           fc_5c[0][0]                      \n",
            "__________________________________________________________________________________________________\n",
            "fc_6 (Conv2D)                   (None, 5, 18, 4096)  2101248     fc_5d[0][0]                      \n",
            "__________________________________________________________________________________________________\n",
            "dropout_6 (Dropout)             (None, 5, 18, 4096)  0           fc_6[0][0]                       \n",
            "__________________________________________________________________________________________________\n",
            "fc_7 (Conv2D)                   (None, 5, 18, 4096)  16781312    dropout_6[0][0]                  \n",
            "__________________________________________________________________________________________________\n",
            "dropout_7 (Dropout)             (None, 5, 18, 4096)  0           fc_7[0][0]                       \n",
            "__________________________________________________________________________________________________\n",
            "fc_8 (Conv2D)                   (None, 5, 18, 2)     8194        dropout_7[0][0]                  \n",
            "__________________________________________________________________________________________________\n",
            "fc_9 (Conv2DTranspose)          (None, 10, 36, 512)  16896       fc_8[0][0]                       \n",
            "__________________________________________________________________________________________________\n",
            "tf_op_layer_Add_6 (TensorFlowOp [(None, 10, 36, 512) 0           fc_9[0][0]                       \n",
            "                                                                 fc_4d[0][0]                      \n",
            "__________________________________________________________________________________________________\n",
            "fc_10 (Conv2DTranspose)         (None, 20, 72, 256)  2097408     tf_op_layer_Add_6[0][0]          \n",
            "__________________________________________________________________________________________________\n",
            "tf_op_layer_Add_7 (TensorFlowOp [(None, 20, 72, 256) 0           fc_10[0][0]                      \n",
            "                                                                 fc_3d[0][0]                      \n",
            "__________________________________________________________________________________________________\n",
            "fc_11 (Conv2DTranspose)         (None, 160, 576, 2)  131074      tf_op_layer_Add_7[0][0]          \n",
            "__________________________________________________________________________________________________\n",
            "activation_3 (Activation)       (None, 160, 576, 2)  0           fc_11[0][0]                      \n",
            "==================================================================================================\n",
            "Total params: 35,850,820\n",
            "Trainable params: 35,850,820\n",
            "Non-trainable params: 0\n",
            "__________________________________________________________________________________________________\n"
          ],
          "name": "stdout"
        }
      ]
    },
    {
      "cell_type": "code",
      "metadata": {
        "id": "RTOM1DJ9EZKh",
        "colab_type": "code",
        "outputId": "1a3b38a8-8ae8-495f-eb7a-cff70ba534b3",
        "colab": {
          "base_uri": "https://localhost:8080/",
          "height": 1000
        }
      },
      "source": [
        "seg_model.fit(x = X_train,y = y_train, epochs =40 ,batch_size  = 64)"
      ],
      "execution_count": 0,
      "outputs": [
        {
          "output_type": "stream",
          "text": [
            "Epoch 1/40\n",
            "231/231 [==============================] - 20s 88ms/sample - loss: 0.9494 - acc: 0.7050\n",
            "Epoch 2/40\n",
            "231/231 [==============================] - 7s 31ms/sample - loss: 0.5599 - acc: 0.7981\n",
            "Epoch 3/40\n",
            "231/231 [==============================] - 7s 31ms/sample - loss: 0.4621 - acc: 0.8076\n",
            "Epoch 4/40\n",
            "231/231 [==============================] - 7s 31ms/sample - loss: 0.4887 - acc: 0.8076\n",
            "Epoch 5/40\n",
            "231/231 [==============================] - 7s 31ms/sample - loss: 0.4227 - acc: 0.8076\n",
            "Epoch 6/40\n",
            "231/231 [==============================] - 7s 32ms/sample - loss: 0.3696 - acc: 0.8078\n",
            "Epoch 7/40\n",
            "231/231 [==============================] - 7s 32ms/sample - loss: 0.3528 - acc: 0.8071\n",
            "Epoch 8/40\n",
            "231/231 [==============================] - 7s 32ms/sample - loss: 0.3319 - acc: 0.8092\n",
            "Epoch 9/40\n",
            "231/231 [==============================] - 7s 32ms/sample - loss: 0.3237 - acc: 0.8283\n",
            "Epoch 10/40\n",
            "231/231 [==============================] - 7s 32ms/sample - loss: 0.3132 - acc: 0.8578\n",
            "Epoch 11/40\n",
            "231/231 [==============================] - 8s 33ms/sample - loss: 0.2990 - acc: 0.8653\n",
            "Epoch 12/40\n",
            "231/231 [==============================] - 8s 33ms/sample - loss: 0.2932 - acc: 0.8632\n",
            "Epoch 13/40\n",
            "231/231 [==============================] - 8s 33ms/sample - loss: 0.2837 - acc: 0.8718\n",
            "Epoch 14/40\n",
            "231/231 [==============================] - 8s 33ms/sample - loss: 0.2914 - acc: 0.8685\n",
            "Epoch 15/40\n",
            "231/231 [==============================] - 8s 33ms/sample - loss: 0.2818 - acc: 0.8752\n",
            "Epoch 16/40\n",
            "231/231 [==============================] - 8s 33ms/sample - loss: 0.2721 - acc: 0.8758\n",
            "Epoch 17/40\n",
            "231/231 [==============================] - 7s 32ms/sample - loss: 0.2709 - acc: 0.8770\n",
            "Epoch 18/40\n",
            "231/231 [==============================] - 7s 32ms/sample - loss: 0.2703 - acc: 0.8801\n",
            "Epoch 19/40\n",
            "231/231 [==============================] - 7s 32ms/sample - loss: 0.2838 - acc: 0.8755\n",
            "Epoch 20/40\n",
            "231/231 [==============================] - 7s 32ms/sample - loss: 0.2708 - acc: 0.8803\n",
            "Epoch 21/40\n",
            "231/231 [==============================] - 7s 32ms/sample - loss: 0.2691 - acc: 0.8811\n",
            "Epoch 22/40\n",
            "231/231 [==============================] - 8s 33ms/sample - loss: 0.2646 - acc: 0.8833\n",
            "Epoch 23/40\n",
            "231/231 [==============================] - 8s 33ms/sample - loss: 0.2578 - acc: 0.8835\n",
            "Epoch 24/40\n",
            "231/231 [==============================] - 8s 33ms/sample - loss: 0.2530 - acc: 0.8885\n",
            "Epoch 25/40\n",
            "231/231 [==============================] - 8s 33ms/sample - loss: 0.2511 - acc: 0.8886\n",
            "Epoch 26/40\n",
            "231/231 [==============================] - 8s 33ms/sample - loss: 0.2511 - acc: 0.8876\n",
            "Epoch 27/40\n",
            "231/231 [==============================] - 8s 33ms/sample - loss: 0.2473 - acc: 0.8888\n",
            "Epoch 28/40\n",
            "231/231 [==============================] - 8s 33ms/sample - loss: 0.2459 - acc: 0.8908\n",
            "Epoch 29/40\n",
            "231/231 [==============================] - 8s 33ms/sample - loss: 0.2418 - acc: 0.8938\n",
            "Epoch 30/40\n",
            "231/231 [==============================] - 8s 33ms/sample - loss: 0.2377 - acc: 0.8952\n",
            "Epoch 31/40\n",
            "231/231 [==============================] - 8s 33ms/sample - loss: 0.2319 - acc: 0.8983\n",
            "Epoch 32/40\n",
            "231/231 [==============================] - 8s 33ms/sample - loss: 0.2318 - acc: 0.9003\n",
            "Epoch 33/40\n",
            "231/231 [==============================] - 8s 33ms/sample - loss: 0.2276 - acc: 0.8994\n",
            "Epoch 34/40\n",
            "231/231 [==============================] - 8s 33ms/sample - loss: 0.2317 - acc: 0.8991\n",
            "Epoch 35/40\n",
            "231/231 [==============================] - 8s 33ms/sample - loss: 0.2294 - acc: 0.8984\n",
            "Epoch 36/40\n",
            "231/231 [==============================] - 8s 33ms/sample - loss: 0.2222 - acc: 0.9022\n",
            "Epoch 37/40\n",
            "231/231 [==============================] - 8s 33ms/sample - loss: 0.2158 - acc: 0.9061\n",
            "Epoch 38/40\n",
            "231/231 [==============================] - 8s 33ms/sample - loss: 0.2152 - acc: 0.9069\n",
            "Epoch 39/40\n",
            "231/231 [==============================] - 8s 33ms/sample - loss: 0.2114 - acc: 0.9088\n",
            "Epoch 40/40\n",
            "231/231 [==============================] - 8s 33ms/sample - loss: 0.2050 - acc: 0.9105\n"
          ],
          "name": "stdout"
        },
        {
          "output_type": "execute_result",
          "data": {
            "text/plain": [
              "<tensorflow.python.keras.callbacks.History at 0x7f62ec60dd68>"
            ]
          },
          "metadata": {
            "tags": []
          },
          "execution_count": 94
        }
      ]
    },
    {
      "cell_type": "code",
      "metadata": {
        "id": "-D9u_egMSLGw",
        "colab_type": "code",
        "outputId": "48617fb0-8845-4c3a-a02f-70507d6e0934",
        "colab": {
          "base_uri": "https://localhost:8080/",
          "height": 68
        }
      },
      "source": [
        "preds = seg_model.evaluate(x = X_test,y =y_test)\n",
        "print(preds[0])\n",
        "print(preds[1])"
      ],
      "execution_count": 0,
      "outputs": [
        {
          "output_type": "stream",
          "text": [
            "58/58 [==============================] - 1s 13ms/sample - loss: 0.2327 - acc: 0.9006\n",
            "0.23272501600199733\n",
            "0.9006469\n"
          ],
          "name": "stdout"
        }
      ]
    },
    {
      "cell_type": "code",
      "metadata": {
        "id": "5zzPibQBEwGB",
        "colab_type": "code",
        "colab": {}
      },
      "source": [
        "!cp drive/'My Drive'/um_000000.png ."
      ],
      "execution_count": 0,
      "outputs": []
    },
    {
      "cell_type": "code",
      "metadata": {
        "id": "wPfXTA5a8TQX",
        "colab_type": "code",
        "colab": {}
      },
      "source": [
        "x=cv2.imread('/content/um_000000.png')\n",
        "x=final_list3[21]\n",
        "x = np.expand_dims(x, axis=0)\n",
        "a = seg_model.predict(x)\n",
        "back2 = np.array([1,0])\n",
        "ah = np.squeeze(a,axis=0)\n",
        "ah = ah>0.5\n",
        "ah = np.concatenate((ah,np.zeros((160,576,1))),axis = 2)\n",
        "ah=ah*255\n",
        "print(ah.shape)"
      ],
      "execution_count": 0,
      "outputs": []
    },
    {
      "cell_type": "code",
      "metadata": {
        "id": "31Xb-Ou-9dpI",
        "colab_type": "code",
        "outputId": "e6d8a3cd-237f-4cad-e450-41adb80f97e8",
        "colab": {
          "base_uri": "https://localhost:8080/",
          "height": 199
        }
      },
      "source": [
        "plt.imshow(ah)"
      ],
      "execution_count": 0,
      "outputs": [
        {
          "output_type": "stream",
          "text": [
            "W0727 10:33:01.367628 140081359226752 image.py:648] Clipping input data to the valid range for imshow with RGB data ([0..1] for floats or [0..255] for integers).\n"
          ],
          "name": "stderr"
        },
        {
          "output_type": "execute_result",
          "data": {
            "text/plain": [
              "<matplotlib.image.AxesImage at 0x7f62ea141908>"
            ]
          },
          "metadata": {
            "tags": []
          },
          "execution_count": 294
        },
        {
          "output_type": "display_data",
          "data": {
            "image/png": "[encoded data removed]",
            "text/plain": [
              "<Figure size 432x288 with 1 Axes>"
            ]
          },
          "metadata": {
            "tags": []
          }
        }
      ]
    }
  ]
}